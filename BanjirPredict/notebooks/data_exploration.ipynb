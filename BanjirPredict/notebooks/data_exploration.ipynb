{
 "cells": [
  {
   "cell_type": "code",
   "execution_count": null,
   "metadata": {
    "vscode": {
     "languageId": "plaintext"
    }
   },
   "outputs": [],
   "source": [
    "import pandas as pd\n",
    "import matplotlib.pyplot as plt\n",
    "\n",
    "df = pd.read_csv(\"../data/weather_features.csv\")\n",
    "\n",
    "plt.hist(df[\"rain\"], bins=20, edgecolor=\"black\")\n",
    "plt.xlabel(\"Curah Hujan (mm)\")\n",
    "plt.ylabel(\"Frekuensi\")\n",
    "plt.title(\"Distribusi Curah Hujan\")\n",
    "plt.show()"
   ]
  },
  {
   "cell_type": "code",
   "execution_count": null,
   "metadata": {
    "vscode": {
     "languageId": "plaintext"
    }
   },
   "outputs": [],
   "source": []
  }
 ],
 "metadata": {
  "language_info": {
   "name": "python"
  }
 },
 "nbformat": 4,
 "nbformat_minor": 2
}
